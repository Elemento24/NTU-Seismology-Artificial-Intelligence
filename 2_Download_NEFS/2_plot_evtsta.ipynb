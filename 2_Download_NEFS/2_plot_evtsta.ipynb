{
 "cells": [
  {
   "cell_type": "code",
   "execution_count": null,
   "metadata": {},
   "outputs": [],
   "source": [
    "import os\n",
    "import pygmt\n",
    "import pandas as pd\n",
    "import numpy as np"
   ]
  },
  {
   "cell_type": "code",
   "execution_count": null,
   "metadata": {},
   "outputs": [],
   "source": [
    "# Creating the path for both the folders\n",
    "datadir = \"./\"\n",
    "path_plots = os.path.join(datadir, \"Plots\")\n",
    "path_ev = os.path.join(datadir, \"Events\")\n",
    "path_st = os.path.join(datadir, \"Stations\")\n",
    "\n",
    "try: os.mkdir(path_plots)\n",
    "except: print(\"The directory already exists\")"
   ]
  },
  {
   "cell_type": "code",
   "execution_count": null,
   "metadata": {},
   "outputs": [],
   "source": [
    "# Define your study site\n",
    "minlon, maxlon = 90, 104\n",
    "minlat, maxlat = 16, 30\n",
    "lonc = (minlon + maxlon) / 2\n",
    "latc = (minlat + maxlat) / 2\n",
    "\n",
    "# Define stations provider\n",
    "provider1 = \"IRIS\"\n",
    "provider2 = \"GFZ\"\n",
    "\n",
    "# Define etopo data file\n",
    "topo_data = '@earth_relief_30s' #30 arc second global relief (SRTM15+V2.1 @ 1.0 km)"
   ]
  },
  {
   "cell_type": "code",
   "execution_count": null,
   "metadata": {
    "scrolled": true
   },
   "outputs": [],
   "source": [
    "# Defining the catalog duration\n",
    "for i in range(19):\n",
    "    year1 = 2000 + i\n",
    "    year2 = 2001 + i\n",
    "\n",
    "    print(f\"For the Time-period: {year1}-{year2}\")\n",
    "    \n",
    "    fig = pygmt.Figure()\n",
    "    pygmt.config(MAP_FRAME_TYPE=\"fancy\",MAP_DEGREE_SYMBOL=\"degree\",MAP_FRAME_WIDTH=\"0.08c\",\n",
    "        MAP_FRAME_PEN=\"0.1p\",MAP_TICK_PEN_PRIMARY=\"0.1p\",MAP_TICK_LENGTH_PRIMARY=\"0.1c\")\n",
    "    pygmt.config(FORMAT_GEO_MAP=\"dddD\")\n",
    "    pygmt.config(FONT_LABEL=\"8p,4\",MAP_LABEL_OFFSET=\"0.1c\",FONT_ANNOT_PRIMARY=\"8p,4\",\n",
    "        FONT_TITLE=\"10p,4\",MAP_TITLE_OFFSET=\"0.1c\")\n",
    "    \n",
    "    with fig.subplot(\n",
    "        nrows=1, ncols=2, figsize = (\"8i\", \"8i\"),\n",
    "        autolabel = False, margins=[\"0.2c\", \"0.0c\"],\n",
    "    ):\n",
    "\n",
    "        fig.grdimage(region=[minlon, maxlon, minlat, maxlat], projection='M?', \n",
    "            grid=topo_data, cmap=\"elevation\", shading=True,\n",
    "            frame=['xa4f2+l\"longitude\"', 'ya4f2+l\"latitude\"', 'WsNe'], panel=[0,0]\n",
    "        )\n",
    "        fig.coast(frame=False, shorelines=True, borders='1/1p,black')\n",
    "\n",
    "        # Plot events\n",
    "        df = pd.read_csv(f\"{path_ev}/Catalog_{year1}-{year2}\", sep=' ', usecols=[0,1,2,3,4])\n",
    "        df.columns = [\"date\",\"lat\",\"lon\",\"dep\",\"mag\"]\n",
    "        pygmt.makecpt(cmap=\"seis\", series=[0,200], background='o')\n",
    "        fig.plot(x=df[\"lon\"], y=df[\"lat\"], color=df[\"dep\"], cmap=True, style=\"c0.2c\")\n",
    "        fig.colorbar(position=\"JMB+o-1.5c/0.3c+w6c/0.15c+h\",frame=['x50','y+l\"Earthquake Depth (km)\"'])\n",
    "\n",
    "        fig.basemap(region=\"g\", projection=f\"R{lonc}/{latc}?\", frame=['xa120f60+l\"longitude\"', 'ya30f15+l\"latitude\"', 'WsNe'], panel=[0,1])\n",
    "        fig.coast(frame=['xa120f60+l\"longitude\"', 'ya30f15+l\"latitude\"', 'WsNe'], land=\"snow\", water=\"lightblue\")\n",
    "        \n",
    "        # Study area\n",
    "        fig.plot(\n",
    "            x=[minlon, minlon, maxlon, maxlon, minlon],\n",
    "            y=[minlat, maxlat, maxlat, minlat, minlat],\n",
    "            pen=\"0.5p,red\",\n",
    "        )\n",
    "        \n",
    "        # Seismic stations\n",
    "        try:\n",
    "            df = pd.read_csv(f\"{path_st}/stations_{provider1}_{year1}-{year2}.txt\", sep='|', usecols=[4,5], header=0)\n",
    "            df.columns=[\"lat\",\"lon\"]\n",
    "            fig.plot(x=df[\"lon\"],y=df[\"lat\"],style=\"t0.1c\",pen=\"0.1p,black\",no_clip=True,label=f\"{provider1} Stations\")\n",
    "        except:\n",
    "            print(f\"{provider1} doesn't have data for this particular region and duration.\")  \n",
    "\n",
    "        try:\n",
    "            df = pd.read_csv(f\"{path_st}/stations_{provider2}_{year1}-{year2}.txt\", sep='|', usecols=[4,5], header=0)\n",
    "            df.columns=[\"lat\",\"lon\"]\n",
    "            fig.plot(x=df[\"lon\"],y=df[\"lat\"],style=\"t0.05c\",pen=\"0.1p,red\",no_clip=True,label=f\"{provider2} Stations\")\n",
    "        except:\n",
    "            print(f\"{provider2} doesn't have data for this particular region and duration.\")  \n",
    "        \n",
    "        fig.legend(position=\"jbr+o0.1c/0.1c\")\n",
    "\n",
    "    fig.savefig(f\"{path_plots}/plot_{year1}_{year2}.png\")\n",
    "    fig.show()"
   ]
  }
 ],
 "metadata": {
  "interpreter": {
   "hash": "15a3f4c3e6dce4ef769870110c74abcd276220084a34a799f01cf6244fa3cec2"
  },
  "kernelspec": {
   "display_name": "Python 3 (ipykernel)",
   "language": "python",
   "name": "python3"
  },
  "language_info": {
   "codemirror_mode": {
    "name": "ipython",
    "version": 3
   },
   "file_extension": ".py",
   "mimetype": "text/x-python",
   "name": "python",
   "nbconvert_exporter": "python",
   "pygments_lexer": "ipython3",
   "version": "3.9.12"
  }
 },
 "nbformat": 4,
 "nbformat_minor": 4
}
