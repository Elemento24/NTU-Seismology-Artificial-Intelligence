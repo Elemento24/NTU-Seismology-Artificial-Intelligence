{
 "cells": [
  {
   "cell_type": "code",
   "execution_count": null,
   "metadata": {},
   "outputs": [],
   "source": [
    "import os\n",
    "import pygmt\n",
    "import pandas as pd\n",
    "import numpy as np"
   ]
  },
  {
   "cell_type": "code",
   "execution_count": null,
   "metadata": {},
   "outputs": [],
   "source": [
    "# Creating the path for both the folders\n",
    "datadir = \"./\"\n",
    "path_plots = os.path.join(datadir, \"Plots\")\n",
    "path_ev = os.path.join(datadir, \"Events\")\n",
    "path_st = os.path.join(datadir, \"Stations\")\n",
    "\n",
    "try: os.mkdir(path_plots)\n",
    "except: print(\"The directory already exists\")"
   ]
  },
  {
   "cell_type": "code",
   "execution_count": null,
   "metadata": {},
   "outputs": [],
   "source": [
    "# Define your study site\n",
    "minlon, maxlon = 90, 104\n",
    "minlat, maxlat = 16, 30\n",
    "lonc = (minlon + maxlon) / 2\n",
    "latc = (minlat + maxlat) / 2\n",
    "\n",
    "# Define stations provider\n",
    "provider1 = \"IRIS\"\n",
    "provider2 = \"GFZ\"\n",
    "\n",
    "# Define etopo data file\n",
    "topo_data = '@earth_relief_30s' #30 arc second global relief (SRTM15+V2.1 @ 1.0 km)"
   ]
  },
  {
   "cell_type": "code",
   "execution_count": null,
   "metadata": {
    "scrolled": true,
    "tags": []
   },
   "outputs": [],
   "source": [
    "# Defining the catalog duration\n",
    "for i in range(22):\n",
    "  year1 = 2000 + i\n",
    "  year2 = 2001 + i\n",
    "  \n",
    "  print(f\"For the Time-period: {year1}-{year2}\")\n",
    "  \n",
    "  fig = pygmt.Figure()\n",
    "  pygmt.config(MAP_FRAME_TYPE=\"fancy\",MAP_DEGREE_SYMBOL=\"degree\",MAP_FRAME_WIDTH=\"0.08c\",MAP_FRAME_PEN=\"0.1p\",MAP_TICK_PEN_PRIMARY=\"0.1p\",MAP_TICK_LENGTH_PRIMARY=\"0.1c\")\n",
    "  pygmt.config(FORMAT_GEO_MAP=\"dddD\")\n",
    "  pygmt.config(FONT_LABEL=\"8p,4\",MAP_LABEL_OFFSET=\"0.1c\",FONT_ANNOT_PRIMARY=\"8p,4\",FONT_TITLE=\"10p,4\",MAP_TITLE_OFFSET=\"0.1c\")\n",
    "\n",
    "  fig.grdimage(region=[minlon, maxlon, minlat, maxlat], grid=topo_data, cmap=\"globe\", shading=True,\n",
    "      projection='M3i', frame=['xa4f2+l\"longitude\"', 'ya4f2+l\"latitude\"', 'WsNe'])\n",
    "  fig.coast(frame=False,shorelines=True,borders='1/0.5p,black')\n",
    "\n",
    "  # Plot stations\n",
    "  try:\n",
    "    df = pd.read_csv(f\"{path_st}/stations_{provider1}_{year1}-{year2}.txt\", sep='|', usecols=[0,1,4,5])\n",
    "    df.columns = [\"net\",\"station\",\"lat\",\"lon\"]\n",
    "    fig.plot(x=df[\"lon\"], y=df[\"lat\"], no_clip=True, style=\"t0.2c\", pen=\"0.5p\", label=f\"{provider1} Station\")\n",
    "  except:\n",
    "    print(f\"{provider1} doesn't have data for this particular region and duration.\")\n",
    "  \n",
    "  try:\n",
    "    df = pd.read_csv(f\"{path_st}/stations_{provider2}_{year1}-{year2}.txt\", sep='|', usecols=[0,1,4,5])\n",
    "    df.columns = [\"net\",\"station\",\"lat\",\"lon\"]\n",
    "    fig.plot(x=df[\"lon\"], y=df[\"lat\"], no_clip=True, style=\"s0.2c\", pen=\"0.5p\", label=f\"{provider2} Station\")\n",
    "  except:\n",
    "    print(f\"{provider2} doesn't have data for this particular region and duration.\")\n",
    "\n",
    "  fig.legend(position=\"jbl+o0.1c/0.1c\", box=\"+gsnow\")\n",
    "\n",
    "  with fig.inset(position=\"jbl+w2.0c+o0.1c/0.8c\"):\n",
    "    fig.coast(\n",
    "      region=\"g\",\n",
    "      projection=f\"G{lonc}/{latc}/?\",\n",
    "      land=\"black\",\n",
    "      water=\"lightblue\"\n",
    "    )\n",
    "\n",
    "    # Plot events\n",
    "    df = pd.read_csv(f\"{path_ev}/events_{year1}-{year2}.csv\", sep=',', usecols=[0,1,2,3,5])\n",
    "    df.columns = [\"time\",\"lat\",\"lon\",\"dep\",\"mag\"]\n",
    "    fig.plot(x=df[\"lon\"], y=df[\"lat\"], color=\"brown\", style=\"c0.02c\")\n",
    "    \n",
    "    # Study area\n",
    "    fig.plot(\n",
    "      x = [minlon, minlon, maxlon, maxlon, minlon],\n",
    "      y = [minlat, maxlat, maxlat, minlat, minlat],\n",
    "      pen = \"0.3p,red\"\n",
    "    )\n",
    "\n",
    "  fig.savefig(f\"{path_plots}/plot_{year1}_{year2}.png\")\n",
    "  fig.show()\n",
    "    \n",
    "  print()"
   ]
  }
 ],
 "metadata": {
  "interpreter": {
   "hash": "15a3f4c3e6dce4ef769870110c74abcd276220084a34a799f01cf6244fa3cec2"
  },
  "kernelspec": {
   "display_name": "Python 3 (ipykernel)",
   "language": "python",
   "name": "python3"
  },
  "language_info": {
   "codemirror_mode": {
    "name": "ipython",
    "version": 3
   },
   "file_extension": ".py",
   "mimetype": "text/x-python",
   "name": "python",
   "nbconvert_exporter": "python",
   "pygments_lexer": "ipython3",
   "version": "3.9.12"
  }
 },
 "nbformat": 4,
 "nbformat_minor": 4
}
