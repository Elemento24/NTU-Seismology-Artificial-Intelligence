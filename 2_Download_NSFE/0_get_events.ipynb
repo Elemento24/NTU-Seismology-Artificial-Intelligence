{
 "cells": [
  {
   "cell_type": "code",
   "execution_count": 1,
   "metadata": {},
   "outputs": [],
   "source": [
    "import os\n",
    "from obspy.clients.fdsn import Client\n",
    "from obspy import UTCDateTime"
   ]
  },
  {
   "cell_type": "code",
   "execution_count": 2,
   "metadata": {},
   "outputs": [],
   "source": [
    "# Creating a directory to store all the Events Catalogues\n",
    "datadir = \"./\"\n",
    "path = os.path.join(datadir, \"Events\")\n",
    "\n",
    "try:\n",
    "  os.mkdir(path)\n",
    "except:\n",
    "  print(\"The directory already exists\")"
   ]
  },
  {
   "cell_type": "code",
   "execution_count": 3,
   "metadata": {},
   "outputs": [],
   "source": [
    "# Specify webservice\n",
    "c_event = Client(\"USGS\")\n",
    "\n",
    "# Define the study site center\n",
    "lat = 23\n",
    "lon = 97"
   ]
  },
  {
   "cell_type": "code",
   "execution_count": 4,
   "metadata": {
    "scrolled": true,
    "tags": []
   },
   "outputs": [
    {
     "name": "stdout",
     "output_type": "stream",
     "text": [
      "For the Time-period: 2000-2001\n",
      "A total of 1086 events~\n",
      "For the Time-period: 2001-2002\n",
      "A total of 711 events~\n",
      "For the Time-period: 2002-2003\n",
      "A total of 795 events~\n",
      "For the Time-period: 2003-2004\n",
      "A total of 917 events~\n",
      "For the Time-period: 2004-2005\n",
      "A total of 302 events~\n",
      "For the Time-period: 2005-2006\n",
      "A total of 1240 events~\n",
      "For the Time-period: 2006-2007\n",
      "A total of 1242 events~\n",
      "For the Time-period: 2007-2008\n",
      "A total of 1464 events~\n",
      "For the Time-period: 2008-2009\n",
      "A total of 1097 events~\n",
      "For the Time-period: 2009-2010\n",
      "A total of 1013 events~\n",
      "For the Time-period: 2010-2011\n",
      "A total of 811 events~\n",
      "For the Time-period: 2011-2012\n",
      "A total of 1872 events~\n",
      "For the Time-period: 2012-2013\n",
      "A total of 1039 events~\n",
      "For the Time-period: 2013-2014\n",
      "A total of 709 events~\n",
      "For the Time-period: 2014-2015\n",
      "A total of 1091 events~\n",
      "For the Time-period: 2015-2016\n",
      "A total of 912 events~\n",
      "For the Time-period: 2016-2017\n",
      "A total of 684 events~\n",
      "For the Time-period: 2017-2018\n",
      "A total of 971 events~\n",
      "For the Time-period: 2018-2019\n",
      "A total of 973 events~\n",
      "For the Time-period: 2019-2020\n",
      "A total of 811 events~\n",
      "For the Time-period: 2020-2021\n",
      "A total of 785 events~\n",
      "For the Time-period: 2021-2022\n",
      "A total of 1242 events~\n"
     ]
    }
   ],
   "source": [
    "# Defining the catalog duration\n",
    "for i in range(22):\n",
    "  year1 = 2000 + i\n",
    "  year2 = 2001 + i\n",
    "  \n",
    "  print(f\"For the Time-period: {year1}-{year2}\")\n",
    "  \n",
    "  ## See details at https://docs.obspy.org/packages/autogen/obspy.clients.fdsn.client.Client.get_events.html\n",
    "  catalog = c_event.get_events(\n",
    "    starttime=UTCDateTime(f\"{year1}-01-01T00:00:00.000\"), endtime=UTCDateTime(f\"{year2}-01-01T00:00:00.000\"), \n",
    "    latitude=lat, longitude=lon, minradius=25, maxradius=95, minmagnitude=5.0\n",
    "  )\n",
    "\n",
    "  print(\"A total of {} events~\".format(catalog.count()))\n",
    "  \n",
    "  # Write to a text file\n",
    "  with open(f\"{path}/events_{year1}-{year2}.csv\", \"w\") as f:\n",
    "    f.write(\"time, latitude, longitude, depth, depthUnits, magnitude, magnitudeType\\n\")\n",
    "    for ev in catalog:\n",
    "      origin = ev.preferred_origin().time\n",
    "      lon = ev.preferred_origin().longitude\n",
    "      lat = ev.preferred_origin().latitude\n",
    "      depth = ev.preferred_origin().depth / 1000.0  # convert to KILOMETER\n",
    "      evmg = ev.preferred_magnitude().mag\n",
    "      evmg_type = ev.preferred_magnitude().magnitude_type\n",
    "      f.write(\"{}Z, {:.5f}, {:.5f}, {:6.2f}, {}, {:5}, {}\\n\".format(origin.strftime(\"%Y-%m-%dT%H:%M:%S.%f\")[:-3], lat, lon, depth, \"KILOMETER\", evmg, evmg_type))"
   ]
  }
 ],
 "metadata": {
  "interpreter": {
   "hash": "15a3f4c3e6dce4ef769870110c74abcd276220084a34a799f01cf6244fa3cec2"
  },
  "kernelspec": {
   "display_name": "Python 3 (ipykernel)",
   "language": "python",
   "name": "python3"
  },
  "language_info": {
   "codemirror_mode": {
    "name": "ipython",
    "version": 3
   },
   "file_extension": ".py",
   "mimetype": "text/x-python",
   "name": "python",
   "nbconvert_exporter": "python",
   "pygments_lexer": "ipython3",
   "version": "3.9.12"
  }
 },
 "nbformat": 4,
 "nbformat_minor": 4
}
