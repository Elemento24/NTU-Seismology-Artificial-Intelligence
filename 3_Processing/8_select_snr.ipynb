{
 "cells": [
  {
   "cell_type": "code",
   "execution_count": null,
   "id": "devoted-borough",
   "metadata": {},
   "outputs": [],
   "source": [
    "import obspy\n",
    "from obspy.io.sac.util import get_sac_reftime\n",
    "import os\n",
    "import glob\n",
    "from IPython.display import clear_output"
   ]
  },
  {
   "cell_type": "code",
   "execution_count": null,
   "id": "b1869916",
   "metadata": {},
   "outputs": [],
   "source": [
    "root_dir = \"/media/elemento/Element/NTU_RW/NEFS\"\n",
    "os.listdir(root_dir)"
   ]
  },
  {
   "cell_type": "code",
   "execution_count": null,
   "id": "previous-wrong",
   "metadata": {},
   "outputs": [],
   "source": [
    "def do_selectSNR(data_dir, TNoise1, TNoise2, TSignal1, TSignal2, thresh):\n",
    "    \"\"\"\n",
    "    Select data according the SNR > thresh, for certain phase e.g., t1(P) which has been stored in sacheader.\n",
    "    TNoise1, TNoise2 the time before e.g., t1\n",
    "    TSignal1 the time before t1 and  TSignal2 the time after t1\n",
    "    \"\"\"\n",
    "    if not os.path.exists(data_dir):\n",
    "        print(\"Missing File: %s\" % data_dir)\n",
    "        os.sys.exit()\n",
    "    if(TNoise1 >= TNoise2 or TSignal1 >= TSignal2):\n",
    "        print(\"The window has not been well set, check that!\")\n",
    "        os.sys.exit()\n",
    "    \n",
    "    # Iterating over all the events\n",
    "    for ev in os.listdir(data_dir):\n",
    "        inpath = os.path.join(data_dir, ev)\n",
    "        os.chdir(inpath)\n",
    "        print(ev)\n",
    "    \n",
    "        # Open the info file\n",
    "        f = open(\"snr.info\", \"w\")\n",
    "        \n",
    "        # Iterating over all the SAC files\n",
    "        for sac in glob.glob(\"*.SAC.bp\"):\n",
    "            try:\n",
    "                st = obspy.read(sac)\n",
    "                T = get_sac_reftime(st[0].stats.sac) + st[0].stats.sac.t1\n",
    "\n",
    "                # Measure noise level\n",
    "                tr = st.copy()\n",
    "                tr.trim(starttime = T+TNoise1, endtime = T+TNoise2, pad=True, fill_value=0)\n",
    "                Noisamean = sum(abs(tr[0].data))/len(tr[0].data)\n",
    "\n",
    "                # Measure signal level\n",
    "                tr = st.copy()\n",
    "                tr.trim(starttime = T+TSignal1, endtime = T+TSignal2, pad=True, fill_value=0)\n",
    "                SignMax = max(abs(tr[0].data))\n",
    "\n",
    "                # Define the signal to noise ratio value\n",
    "                snr = SignMax/Noisamean\n",
    "\n",
    "                f.write(\"{} {}\\n\".format(snr,sac))\n",
    "\n",
    "                if (snr < thresh):\n",
    "                    os.remove(sac)\n",
    "                    print(\"Removed {} which has a low SNR: {:.2f}\".format(sac,snr))\n",
    "                    \n",
    "                clear_output(wait=False)\n",
    "                    \n",
    "            except:\n",
    "                os.remove(sac)\n",
    "        \n",
    "        # Close the info file\n",
    "        f.close()"
   ]
  },
  {
   "cell_type": "code",
   "execution_count": null,
   "id": "ef0ecaa8",
   "metadata": {},
   "outputs": [],
   "source": [
    "# Filter data (Noise values, Signal values and Threshold)\n",
    "TNoise1 = -80   # Noise window_left before t1\n",
    "TNoise2 = -30   # Noise window_right before t1\n",
    "TSignal1 = -20  # Signal window_left before t1\n",
    "TSignal2 = 30   # Signal window_right after t1\n",
    "thresh = 3.0    # Threshold to select data"
   ]
  },
  {
   "cell_type": "code",
   "execution_count": null,
   "id": "42306195",
   "metadata": {},
   "outputs": [],
   "source": [
    "# Filter data\n",
    "providers = [\"IRIS\", \"GFZ\"]\n",
    "years = [2000, 2001, 2002, 2003]\n",
    "\n",
    "for year1 in years:\n",
    "    year2 = year1 + 1\n",
    "    for provider in providers:\n",
    "        print(f\"For the range: {year1}-{year2}, and provider: {provider}\")\n",
    "        \n",
    "        data_sac = f'{root_dir}/Download/{provider}/SAC/{year1}'\n",
    "        \n",
    "        # Perform filtering\n",
    "        do_selectSNR(data_sac, TNoise1, TNoise2, TSignal1, TSignal2, thresh)\n",
    "        \n",
    "        clear_output(wait=False)"
   ]
  }
 ],
 "metadata": {
  "interpreter": {
   "hash": "15a3f4c3e6dce4ef769870110c74abcd276220084a34a799f01cf6244fa3cec2"
  },
  "kernelspec": {
   "display_name": "Python 3 (ipykernel)",
   "language": "python",
   "name": "python3"
  },
  "language_info": {
   "codemirror_mode": {
    "name": "ipython",
    "version": 3
   },
   "file_extension": ".py",
   "mimetype": "text/x-python",
   "name": "python",
   "nbconvert_exporter": "python",
   "pygments_lexer": "ipython3",
   "version": "3.9.12"
  }
 },
 "nbformat": 4,
 "nbformat_minor": 5
}
