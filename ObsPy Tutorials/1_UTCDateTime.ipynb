{
 "cells": [
  {
   "cell_type": "markdown",
   "id": "a1b06c74-65bd-46b9-9dd7-9bc9bf4eb27e",
   "metadata": {},
   "source": [
    "# UTCDateTime\n",
    "- The link to this tutorial can be found [here](https://docs.obspy.org/tutorial/code_snippets/utc_date_time.html).\n",
    "- All absolute time values within ObsPy are consistently handled with the UTCDateTime class. It is based on a high precision POSIX timestamp and not the Python datetime class because precision was an issue."
   ]
  },
  {
   "cell_type": "code",
   "execution_count": 1,
   "id": "0de2e3c1-4b2b-4a01-82e4-c725005595a2",
   "metadata": {},
   "outputs": [
    {
     "data": {
      "text/plain": [
       "2012-09-07T12:15:00.000000Z"
      ]
     },
     "execution_count": 1,
     "metadata": {},
     "output_type": "execute_result"
    }
   ],
   "source": [
    "# Initialization\n",
    "from obspy.core import UTCDateTime\n",
    "UTCDateTime(\"2012-09-07T12:15:00\")\n",
    "UTCDateTime(2012, 9, 7, 12, 15, 0)\n",
    "UTCDateTime(1347020100.0)"
   ]
  },
  {
   "cell_type": "code",
   "execution_count": 2,
   "id": "0b157504-7f1e-43b7-9f2b-6bcd085f6a4a",
   "metadata": {},
   "outputs": [
    {
     "data": {
      "text/plain": [
       "2012-09-07T10:15:00.000000Z"
      ]
     },
     "execution_count": 2,
     "metadata": {},
     "output_type": "execute_result"
    }
   ],
   "source": [
    "# Time Zones\n",
    "UTCDateTime(\"2012-09-07T12:15:00+02:00\")"
   ]
  },
  {
   "cell_type": "code",
   "execution_count": 3,
   "id": "ed9d8cf0-c335-40c8-8c7c-aee93bd88c38",
   "metadata": {},
   "outputs": [
    {
     "name": "stdout",
     "output_type": "stream",
     "text": [
      "2012 251 1347020100.0 4\n"
     ]
    }
   ],
   "source": [
    "# Atrribute Access\n",
    "time = UTCDateTime(\"2012-09-07T12:15:00\")\n",
    "print(time.year, time.julday, time.timestamp, time.weekday)"
   ]
  },
  {
   "cell_type": "code",
   "execution_count": 4,
   "id": "88c9de6c-c1e3-487b-9a1d-8895acce7a9f",
   "metadata": {},
   "outputs": [
    {
     "name": "stdout",
     "output_type": "stream",
     "text": [
      "2012-09-07T13:15:00.000000Z\n",
      "21644100.0\n"
     ]
    }
   ],
   "source": [
    "# Handling time differences\n",
    "time = UTCDateTime(\"2012-09-07T12:15:00\")\n",
    "print(time + 3600)\n",
    "time2 = UTCDateTime(2012, 1, 1)\n",
    "print(time - time2)"
   ]
  }
 ],
 "metadata": {
  "kernelspec": {
   "display_name": "Python 3 (ipykernel)",
   "language": "python",
   "name": "python3"
  },
  "language_info": {
   "codemirror_mode": {
    "name": "ipython",
    "version": 3
   },
   "file_extension": ".py",
   "mimetype": "text/x-python",
   "name": "python",
   "nbconvert_exporter": "python",
   "pygments_lexer": "ipython3",
   "version": "3.9.12"
  }
 },
 "nbformat": 4,
 "nbformat_minor": 5
}
