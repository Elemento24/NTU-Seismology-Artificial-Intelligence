{
 "cells": [
  {
   "cell_type": "markdown",
   "id": "1a5baf38-99a1-4cff-a762-09f4322c97ae",
   "metadata": {},
   "source": [
    "# Filtering Seismograms\n",
    "- The link to this tutorial can be found [here](https://docs.obspy.org/tutorial/code_snippets/filtering_seismograms.html)\n",
    "- The following script shows how to filter a seismogram. The example uses a zero-phase-shift low-pass filter with a corner frequency of 1 Hz using 2 corners. This is done in two runs forward and backward, so we end up with 4 corners de facto."
   ]
  },
  {
   "cell_type": "code",
   "execution_count": 1,
   "id": "14a830fb-e708-4125-bc22-b719c429b0b6",
   "metadata": {},
   "outputs": [],
   "source": [
    "import numpy as np\n",
    "import matplotlib.pyplot as plt\n",
    "import obspy"
   ]
  },
  {
   "cell_type": "code",
   "execution_count": 2,
   "id": "3284e22c-b7c7-469f-95a8-ea6ec7ced5d7",
   "metadata": {},
   "outputs": [
    {
     "data": {
      "text/plain": [
       ".RJOB..Z | 2005-10-06T07:21:59.850000Z - 2005-10-06T07:24:59.845000Z | 200.0 Hz, 36000 samples"
      ]
     },
     "execution_count": 2,
     "metadata": {},
     "output_type": "execute_result"
    }
   ],
   "source": [
    "# Read the seismogram\n",
    "st = obspy.read(\"https://examples.obspy.org/RJOB_061005_072159.ehz.new\")\n",
    "\n",
    "# There is only one trace in the Stream object, let's work on that trace...\n",
    "tr = st[0]\n",
    "\n",
    "# Filtering with a lowpass on a copy of the original Trace\n",
    "tr_filt = tr.copy()\n",
    "tr_filt.filter('lowpass', freq=1.0, corners=2, zerophase=True)"
   ]
  },
  {
   "cell_type": "code",
   "execution_count": 3,
   "id": "240b796c-a2d4-4bf1-9dc9-a1d5f14145d9",
   "metadata": {
    "scrolled": true,
    "tags": []
   },
   "outputs": [
    {
     "name": "stdout",
     "output_type": "stream",
     "text": [
      "         network: \n",
      "         station: RJOB\n",
      "        location: \n",
      "         channel: Z\n",
      "       starttime: 2005-10-06T07:21:59.850000Z\n",
      "         endtime: 2005-10-06T07:24:59.845000Z\n",
      "   sampling_rate: 200.0\n",
      "           delta: 0.005\n",
      "            npts: 36000\n",
      "           calib: 0.0949\n",
      "         _format: GSE2\n",
      "            gse2: AttribDict({'auxid': 'RJOB', 'datatype': 'CM6', 'calper': 1.0, 'instype': '', 'hang': -1.0, 'vang': -1.0, 'lat': -999.0, 'lon': -999.0, 'coordsys': '', 'elev': -0.999, 'edepth': -0.999}) \n",
      "\n",
      "         network: \n",
      "         station: RJOB\n",
      "        location: \n",
      "         channel: Z\n",
      "       starttime: 2005-10-06T07:21:59.850000Z\n",
      "         endtime: 2005-10-06T07:24:59.845000Z\n",
      "   sampling_rate: 200.0\n",
      "           delta: 0.005\n",
      "            npts: 36000\n",
      "           calib: 0.0949\n",
      "         _format: GSE2\n",
      "            gse2: AttribDict({'auxid': 'RJOB', 'datatype': 'CM6', 'calper': 1.0, 'instype': '', 'hang': -1.0, 'vang': -1.0, 'lat': -999.0, 'lon': -999.0, 'coordsys': '', 'elev': -0.999, 'edepth': -0.999})\n",
      "      processing: [\"ObsPy 1.3.0: filter(options={'freq': 1.0, 'corners': 2, 'zerophase': True}::type='lowpass')\"]\n"
     ]
    }
   ],
   "source": [
    "print(tr.stats, \"\\n\")\n",
    "print(tr_filt.stats)"
   ]
  },
  {
   "cell_type": "code",
   "execution_count": 4,
   "id": "8056e529-8e0c-4f77-9a45-8c67281e7700",
   "metadata": {},
   "outputs": [
    {
     "data": {
      "image/png": "[encoded data removed]",
      "text/plain": [
       "<Figure size 432x288 with 2 Axes>"
      ]
     },
     "metadata": {
      "needs_background": "light"
     },
     "output_type": "display_data"
    }
   ],
   "source": [
    "# Now let's plot the raw and filtered data...\n",
    "t = np.arange(0, tr.stats.npts / tr.stats.sampling_rate, tr.stats.delta)\n",
    "\n",
    "# Unfiltered Data\n",
    "plt.subplot(211)\n",
    "plt.plot(t, tr.data, 'k')\n",
    "plt.ylabel('Raw Data')\n",
    "\n",
    "# Filtered Data\n",
    "plt.subplot(212)\n",
    "plt.plot(t, tr_filt.data, 'k')\n",
    "plt.ylabel('Lowpassed Data')\n",
    "\n",
    "plt.xlabel('Time [s]')\n",
    "plt.suptitle(tr.stats.starttime)\n",
    "plt.show()"
   ]
  },
  {
   "cell_type": "markdown",
   "id": "df8bf923-620c-4703-ba23-97a898c7b5e2",
   "metadata": {},
   "source": [
    "### Looking behind the scenes"
   ]
  },
  {
   "cell_type": "code",
   "execution_count": 5,
   "id": "107bdb24-bd9d-4929-acd0-597a8f3120df",
   "metadata": {},
   "outputs": [
    {
     "name": "stdout",
     "output_type": "stream",
     "text": [
      "[   80   134   197   148    30  -123  -246  -215  -106    30   126    97\n",
      "   107   225   395   497   433   339   328   324   194   -42  -268  -400\n",
      "  -412  -377  -324  -286  -325  -471  -710  -954 -1213 -1489 -1751 -1950\n",
      " -1877 -1513  -810    54   553   595   305   -91  -419  -656  -650  -373\n",
      "    11   332   567   873  1394  2139  2994  3700  4001  3710  2891  1913\n",
      "  1078   545   230   -69  -380  -668  -855  -929  -947  -857  -793  -968\n",
      " -1365 -1940 -2447 -2625 -2418 -1880 -1287  -854  -617  -470  -356  -299\n",
      "  -253  -237  -173     9   176   287   393   437   469   635   879  1119\n",
      "  1220  1007   424  -461]\n"
     ]
    }
   ],
   "source": [
    "# These are the values that are plotted on the Y-axis\n",
    "print(tr.data[17500: 17600])\n",
    "\n",
    "# On the X-axis, the time is plotted in seconds\n",
    "# For this data, the sampling_rate = 200, i.e., 200 samples are recorded in a single second\n",
    "# Total #samples = 36000, i.e., this data represents observations recorded across 180 seconds"
   ]
  }
 ],
 "metadata": {
  "kernelspec": {
   "display_name": "Python 3 (ipykernel)",
   "language": "python",
   "name": "python3"
  },
  "language_info": {
   "codemirror_mode": {
    "name": "ipython",
    "version": 3
   },
   "file_extension": ".py",
   "mimetype": "text/x-python",
   "name": "python",
   "nbconvert_exporter": "python",
   "pygments_lexer": "ipython3",
   "version": "3.9.12"
  }
 },
 "nbformat": 4,
 "nbformat_minor": 5
}
