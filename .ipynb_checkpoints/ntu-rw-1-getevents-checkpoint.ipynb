{
 "cells": [
  {
   "cell_type": "markdown",
   "metadata": {},
   "source": [
    "# First Step | Get Events\n",
    "- Download the earthquake catalogue, i.e., the location of earthquakes including the longitude, latitude, depth and magnitude.\n",
    "- ObsPy is creating an issue with some of its functions. An easy fix is to install it when the kernel starts for the first time, & then restart and run the kernel without installing it again.\n",
    "\n",
    "### References\n",
    "- [ObsPy Documentation](https://docs.obspy.org/)\n",
    "- [ObsPy Clients FDSN](https://docs.obspy.org/packages/obspy.clients.fdsn.html)\n",
    "- [Issue with ObsPy](https://github.com/obspy/obspy/issues/2547)"
   ]
  },
  {
   "cell_type": "code",
   "execution_count": 1,
   "metadata": {},
   "outputs": [],
   "source": [
    "import pygmt\n",
    "from obspy.clients.fdsn import Client\n",
    "from obspy import UTCDateTime"
   ]
  },
  {
   "cell_type": "code",
   "execution_count": 2,
   "metadata": {},
   "outputs": [
    {
     "name": "stdout",
     "output_type": "stream",
     "text": [
      "A total of 211 events~\n"
     ]
    }
   ],
   "source": [
    "# Specify webservice\n",
    "client = Client('IRIS')\n",
    "\n",
    "# Address: Salingyi Myanmar\n",
    "# Reference: https://docs.obspy.org/packages/autogen/obspy.clients.fdsn.client.Client.get_events.html\n",
    "catalog = client.get_events(\n",
    "    starttime=UTCDateTime(\"2019-01-01T00:00:00.000\"), \n",
    "    endtime=UTCDateTime(\"2020-01-01T00:00:00.000\"), \n",
    "    latitude=22, longitude=95, minradius=30, maxradius=90, minmagnitude=5.5\n",
    ")\n",
    "\n",
    "print(\"A total of {} events~\".format(catalog.count()))"
   ]
  },
  {
   "cell_type": "code",
   "execution_count": 3,
   "metadata": {
    "tags": []
   },
   "outputs": [],
   "source": [
    "# Write to a text file\n",
    "datadir = \"./\"\n",
    "with open(f\"{datadir}/events.csv\", \"w\") as f:\n",
    "    f.write(\"time, latitude, longitude, depth, depthUnits, magnitude, magnitudeType\\n\")\n",
    "    for ev in catalog:\n",
    "        origin = ev.preferred_origin().time\n",
    "        lon = ev.preferred_origin().longitude\n",
    "        lat = ev.preferred_origin().latitude\n",
    "        depth = ev.preferred_origin().depth / 1000.0  # Convert to KILOMETER\n",
    "        evmg = ev.preferred_magnitude().mag\n",
    "        evmg_type = ev.preferred_magnitude().magnitude_type\n",
    "        f.write(\"{}Z, {:.5f}, {:.5f}, {:6.2f}, {}, {:5}, {}\\n\".format(origin.strftime(\"%Y-%m-%dT%H:%M:%S.%f\")[:-3], lat, lon, depth, \"KILOMETER\", evmg, evmg_type))"
   ]
  }
 ],
 "metadata": {
  "kernelspec": {
   "display_name": "Python 3 (ipykernel)",
   "language": "python",
   "name": "python3"
  },
  "language_info": {
   "codemirror_mode": {
    "name": "ipython",
    "version": 3
   },
   "file_extension": ".py",
   "mimetype": "text/x-python",
   "name": "python",
   "nbconvert_exporter": "python",
   "pygments_lexer": "ipython3",
   "version": "3.9.12"
  }
 },
 "nbformat": 4,
 "nbformat_minor": 4
}
