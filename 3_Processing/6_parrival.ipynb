{
 "cells": [
  {
   "cell_type": "code",
   "execution_count": 1,
   "id": "4ecac074",
   "metadata": {},
   "outputs": [],
   "source": [
    "import os\n",
    "import glob\n",
    "import obspy\n",
    "import obspy.io.sac.sactrace\n",
    "from obspy.taup import TauPyModel\n",
    "from obspy.clients.iris import Client\n",
    "from IPython.display import clear_output"
   ]
  },
  {
   "cell_type": "code",
   "execution_count": 2,
   "id": "3d156a29",
   "metadata": {},
   "outputs": [
    {
     "data": {
      "text/plain": [
       "['.ipynb_checkpoints',\n",
       " '0_get_events.ipynb',\n",
       " '1_get_stations.ipynb',\n",
       " '2_plot_evtsta.ipynb',\n",
       " '3_get_waveform.ipynb',\n",
       " '3_get_waveform_2001.ipynb',\n",
       " 'Download',\n",
       " 'Download.png',\n",
       " 'Events',\n",
       " 'ISC_EHB_Catalog_1980-2018',\n",
       " 'README.md',\n",
       " 'Stations']"
      ]
     },
     "execution_count": 2,
     "metadata": {},
     "output_type": "execute_result"
    }
   ],
   "source": [
    "client = Client()\n",
    "root_dir = \"/media/elemento/Element/NTU_RW/NSFE\"\n",
    "os.listdir(root_dir)"
   ]
  },
  {
   "cell_type": "code",
   "execution_count": 3,
   "id": "5c4660d0",
   "metadata": {},
   "outputs": [],
   "source": [
    "def theo_arrival(data_dir, model_name, phase):\n",
    "    \"\"\"Write theoretical arrival times of P waves\"\"\"\n",
    "    model = TauPyModel(model=model_name)\n",
    "\n",
    "    for ev in os.listdir(data_dir):\n",
    "        print(ev)\n",
    "        inpath = os.path.join(data_dir, ev)\n",
    "\n",
    "        for sac in glob.glob(f\"{inpath}/*.SAC\"):\n",
    "            try:\n",
    "                st = obspy.read(sac)\n",
    "                sachd = st[0].stats.sac\n",
    "                if sachd.get(\"t1\") != None:\n",
    "                    print(\"Done already~\")\n",
    "                    continue\n",
    "                print(st)\n",
    "\n",
    "                # Set P-wave first arrival\n",
    "                distaz = client.distaz(sachd[\"stla\"], sachd[\"stlo\"], sachd[\"evla\"], sachd[\"evlo\"])\n",
    "                gcarc = distaz['distance']\n",
    "                arrivals = model.get_travel_times(source_depth_in_km=sachd[\"evdp\"],\n",
    "                                      distance_in_degree=gcarc, phase_list=[phase])\n",
    "\n",
    "                sachd[\"t1\"] = arrivals[0].time + sachd[\"o\"]\n",
    "                sachd[\"kt1\"] = arrivals[0].name\n",
    "\n",
    "                sacf = \"{}.{}.{}.{}.SAC\".format(st[0].stats.network,st[0].stats.station,st[0].stats.location,st[0].stats.channel)\n",
    "\n",
    "                st[0].write(f\"{inpath}/{sacf}\", format=\"SAC\")\n",
    "\n",
    "                clear_output(wait=False)\n",
    "                \n",
    "            except:\n",
    "                continue"
   ]
  },
  {
   "cell_type": "code",
   "execution_count": 4,
   "id": "7d57cda1",
   "metadata": {},
   "outputs": [
    {
     "name": "stdout",
     "output_type": "stream",
     "text": [
      "For the range: 2000-2001, and provider: IRIS\n",
      "For the range: 2000-2001, and provider: GFZ\n",
      "For the range: 2001-2002, and provider: IRIS\n",
      "For the range: 2001-2002, and provider: GFZ\n",
      "For the range: 2002-2003, and provider: IRIS\n",
      "For the range: 2002-2003, and provider: GFZ\n",
      "For the range: 2003-2004, and provider: IRIS\n",
      "For the range: 2003-2004, and provider: GFZ\n",
      "For the range: 2004-2005, and provider: IRIS\n",
      "For the range: 2004-2005, and provider: GFZ\n"
     ]
    }
   ],
   "source": [
    "providers = [\"IRIS\", \"GFZ\"]\n",
    "years = [2000, 2001, 2002, 2003, 2004]\n",
    "\n",
    "for year1 in years:\n",
    "    year2 = year1 + 1\n",
    "    for provider in providers:\n",
    "        print(f\"For the range: {year1}-{year2}, and provider: {provider}\")\n",
    "        \n",
    "        data_sac = f'{root_dir}/Download/{provider}/SAC/{year1}'\n",
    "        \n",
    "        # Write theoretical arrival times\n",
    "        theo_arrival(data_sac, \"iasp91\", \"ttp\")\n",
    "        \n",
    "        clear_output(wait=False)"
   ]
  }
 ],
 "metadata": {
  "interpreter": {
   "hash": "15a3f4c3e6dce4ef769870110c74abcd276220084a34a799f01cf6244fa3cec2"
  },
  "kernelspec": {
   "display_name": "Python 3 (ipykernel)",
   "language": "python",
   "name": "python3"
  },
  "language_info": {
   "codemirror_mode": {
    "name": "ipython",
    "version": 3
   },
   "file_extension": ".py",
   "mimetype": "text/x-python",
   "name": "python",
   "nbconvert_exporter": "python",
   "pygments_lexer": "ipython3",
   "version": "3.9.12"
  }
 },
 "nbformat": 4,
 "nbformat_minor": 5
}
