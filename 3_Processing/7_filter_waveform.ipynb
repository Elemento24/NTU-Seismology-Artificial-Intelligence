{
 "cells": [
  {
   "cell_type": "code",
   "execution_count": null,
   "id": "5a016c81",
   "metadata": {},
   "outputs": [],
   "source": [
    "import obspy\n",
    "import os\n",
    "import glob\n",
    "from IPython.display import clear_output"
   ]
  },
  {
   "cell_type": "code",
   "execution_count": null,
   "id": "6be207be",
   "metadata": {},
   "outputs": [],
   "source": [
    "root_dir = \"/media/elemento/Element/NTU_RW/NEFS\"\n",
    "os.listdir(root_dir)"
   ]
  },
  {
   "cell_type": "code",
   "execution_count": null,
   "id": "13212f4c",
   "metadata": {},
   "outputs": [],
   "source": [
    "def do_resample(data_dir, sample_rate):\n",
    "    \"\"\"\n",
    "    resample data\n",
    "    \"\"\"\n",
    "    if not os.path.exists(data_dir):\n",
    "        print(\"Missing File: %s\" % data_dir)\n",
    "\n",
    "    for ev in os.listdir(data_dir):\n",
    "        print(ev)\n",
    "        inpath = os.path.join(data_dir, ev)\n",
    "        for sac in glob.glob(f\"{inpath}/*.SAC\"):\n",
    "            try:\n",
    "                st = obspy.read(sac)\n",
    "                print(st)\n",
    "\n",
    "                # Resample\n",
    "                st.resample(sample_rate, no_filter=\"False\")\n",
    "                st[0].write(sac, format='SAC')\n",
    "                \n",
    "                clear_output(wait=False)\n",
    "\n",
    "            except:\n",
    "                continue"
   ]
  },
  {
   "cell_type": "code",
   "execution_count": null,
   "id": "df660b7e",
   "metadata": {},
   "outputs": [],
   "source": [
    "def do_filter(data_dir, freq_low, freq_high, phase):\n",
    "    \"\"\"\n",
    "    filter data\n",
    "    \"\"\"\n",
    "    if not os.path.exists(data_dir):\n",
    "        print(\"Missing File: %s\" % data_dir)\n",
    "\n",
    "    for ev in os.listdir(data_dir):\n",
    "        print(ev)\n",
    "        inpath = os.path.join(data_dir, ev)\n",
    "        # Remove the existed filtered files *.bp\n",
    "        for bp in glob.glob(f\"{inpath}/*.bp*\"):\n",
    "            os.remove(bp)\n",
    "        \n",
    "        for sac in glob.glob(f\"{inpath}/*.SAC\"):\n",
    "            try:\n",
    "                st = obspy.read(sac)\n",
    "                print(st)\n",
    "\n",
    "                # rmean, rtrend & taper\n",
    "                st.detrend(\"demean\")\n",
    "                st.detrend(\"linear\")\n",
    "                st.taper(max_percentage=0.05, type='hann')\n",
    "\n",
    "                # Bandpass\n",
    "                st.filter('bandpass', freqmin=freq_low, freqmax=freq_high, corners=2, zerophase=phase)\n",
    "\n",
    "                st[0].write(sac+\".bp\", format='SAC')\n",
    "                \n",
    "                clear_output(wait=False)\n",
    "                \n",
    "            except:\n",
    "                continue"
   ]
  },
  {
   "cell_type": "code",
   "execution_count": null,
   "id": "6de0df65",
   "metadata": {},
   "outputs": [],
   "source": [
    "# Filter data\n",
    "providers = [\"IRIS\", \"GFZ\"]\n",
    "years = [2000, 2001, 2002, 2003]\n",
    "\n",
    "for year1 in years:\n",
    "    year2 = year1 + 1\n",
    "    for provider in providers:\n",
    "        print(f\"For the range: {year1}-{year2}, and provider: {provider}\")\n",
    "        \n",
    "        data_sac = f'{root_dir}/Download/{provider}/SAC/{year1}'\n",
    "        \n",
    "        # Perform Resampling, Unified Resampling Rate (20Hz)\n",
    "        do_resample(data_sac, 20)\n",
    "        \n",
    "        # Applying Bandpass Filter, 0.02 Hz - 2 Hz\n",
    "        do_filter(data_sac, 0.02, 2.0, \"TRUE\")\n",
    "        \n",
    "        clear_output(wait=False)"
   ]
  }
 ],
 "metadata": {
  "interpreter": {
   "hash": "15a3f4c3e6dce4ef769870110c74abcd276220084a34a799f01cf6244fa3cec2"
  },
  "kernelspec": {
   "display_name": "Python 3 (ipykernel)",
   "language": "python",
   "name": "python3"
  },
  "language_info": {
   "codemirror_mode": {
    "name": "ipython",
    "version": 3
   },
   "file_extension": ".py",
   "mimetype": "text/x-python",
   "name": "python",
   "nbconvert_exporter": "python",
   "pygments_lexer": "ipython3",
   "version": "3.9.12"
  }
 },
 "nbformat": 4,
 "nbformat_minor": 5
}
