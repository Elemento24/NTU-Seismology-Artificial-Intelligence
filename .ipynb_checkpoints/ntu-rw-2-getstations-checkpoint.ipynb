{
 "cells": [
  {
   "cell_type": "markdown",
   "metadata": {},
   "source": [
    "# Second Step | Get Stations\n",
    "- Download the list of seismic stations, i.e., the location of stations including the longitude, latitude and height.\n",
    "- ObsPy is creating an issue with some of its functions. An easy fix is to install it when the kernel starts for the first time, & then restart and run the kernel without installing it again.\n",
    "\n",
    "### References\n",
    "- [ObsPy Documentation](https://docs.obspy.org/)\n",
    "- [ObsPy Clients FDSN](https://docs.obspy.org/packages/obspy.clients.fdsn.html)\n",
    "- [Issue with ObsPy](https://github.com/obspy/obspy/issues/2547)"
   ]
  },
  {
   "cell_type": "code",
   "execution_count": 1,
   "metadata": {
    "_kg_hide-output": true,
    "scrolled": true
   },
   "outputs": [],
   "source": [
    "# !pip install pygmt\n",
    "# !pip install obspy"
   ]
  },
  {
   "cell_type": "code",
   "execution_count": 2,
   "metadata": {},
   "outputs": [
    {
     "name": "stdout",
     "output_type": "stream",
     "text": [
      "A total of 5 networks~\n"
     ]
    }
   ],
   "source": [
    "from obspy.clients.fdsn import Client\n",
    "from obspy import UTCDateTime\n",
    "\n",
    "# specify webservice\n",
    "client = Client(\"IRIS\")\n",
    "\n",
    "## see details at https://docs.obspy.org/packages/autogen/obspy.clients.fdsn.client.Client.get_stations.html\n",
    "inv = client.get_stations(\n",
    "    minlatitude=15.5, maxlatitude=27.5, minlongitude=92, maxlongitude=98,\n",
    "    channel=\"BH?,HH?,EH?\", level=\"channel\", starttime=UTCDateTime(2015, 1, 1, 0, 0), \n",
    "    endtime=UTCDateTime(2020, 1, 1, 0, 0)\n",
    ")\n",
    "\n",
    "print(\"A total of {} networks~\".format(len(inv)))"
   ]
  },
  {
   "cell_type": "code",
   "execution_count": 3,
   "metadata": {
    "tags": []
   },
   "outputs": [],
   "source": [
    "# Write to a text file\n",
    "datadir = \"./\"\n",
    "inv.write(f\"{datadir}/stations.txt\", format=\"STATIONTXT\")"
   ]
  }
 ],
 "metadata": {
  "kernelspec": {
   "display_name": "Python 3 (ipykernel)",
   "language": "python",
   "name": "python3"
  },
  "language_info": {
   "codemirror_mode": {
    "name": "ipython",
    "version": 3
   },
   "file_extension": ".py",
   "mimetype": "text/x-python",
   "name": "python",
   "nbconvert_exporter": "python",
   "pygments_lexer": "ipython3",
   "version": "3.9.12"
  }
 },
 "nbformat": 4,
 "nbformat_minor": 4
}
